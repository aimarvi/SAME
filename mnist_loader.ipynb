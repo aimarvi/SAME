{
 "cells": [
  {
   "cell_type": "code",
   "execution_count": 9,
   "id": "44d90df1-afef-40e0-b277-7f3d4f540f24",
   "metadata": {
    "tags": []
   },
   "outputs": [],
   "source": [
    "import os\n",
    "import random\n",
    "\n",
    "import torch\n",
    "\n",
    "from PIL import Image\n",
    "\n",
    "from torchvision import datasets, transforms"
   ]
  },
  {
   "cell_type": "code",
   "execution_count": 16,
   "id": "7442754b-dbcc-4ad7-98f1-d8de7b75b294",
   "metadata": {
    "tags": []
   },
   "outputs": [],
   "source": [
    "canvas_size = 400\n",
    "image_size = 100  # resize 28x28 to 100x100\n",
    "num_imgs = 10\n",
    "pad = 20\n",
    "save_root = './mnist_stim'\n",
    "\n",
    "# 4 corner positions\n",
    "positions = {\n",
    "    'top_left': (pad, pad),\n",
    "    'top_right': (canvas_size - image_size - pad, pad),\n",
    "    'bottom_left': (pad, canvas_size - image_size - pad),\n",
    "    'bottom_right': (canvas_size - image_size - pad, canvas_size - image_size - pad)\n",
    "}\n",
    "\n",
    "# --- Load MNIST training data ---\n",
    "transform = transforms.ToTensor()\n",
    "mnist = datasets.MNIST(root='./mnist', train=True, download=True, transform=transform)\n",
    "\n",
    "# Organize by label\n",
    "label_to_imgs = {i: [] for i in range(10)}\n",
    "for img, label in mnist:\n",
    "    label_to_imgs[label].append(img)\n",
    "\n",
    "# Convert tensor to PIL\n",
    "to_pil = transforms.ToPILImage()"
   ]
  },
  {
   "cell_type": "code",
   "execution_count": 17,
   "id": "4e9b3a91-92b0-4492-a32c-6e24df04a89b",
   "metadata": {
    "tags": []
   },
   "outputs": [],
   "source": [
    "def create_mnist_stimulus(mode='same_image'):\n",
    "    canvas = Image.new('L', (canvas_size, canvas_size), 0)  # black canvas\n",
    "\n",
    "    if mode == 'same_image':\n",
    "        label = random.randint(0, 9)\n",
    "        img = random.choice(label_to_imgs[label])\n",
    "        pil_img = to_pil(img).resize((digit_size, digit_size))\n",
    "        imgs = [pil_img, pil_img.copy()]\n",
    "    elif mode == 'same_label':\n",
    "        label = random.randint(0, 9)\n",
    "        img1, img2 = random.sample(label_to_imgs[label], 2)\n",
    "        imgs = [to_pil(img1).resize((digit_size, digit_size)),\n",
    "                to_pil(img2).resize((digit_size, digit_size))]\n",
    "    elif mode == 'different_label':\n",
    "        label1, label2 = random.sample(range(10), 2)\n",
    "        img1 = random.choice(label_to_imgs[label1])\n",
    "        img2 = random.choice(label_to_imgs[label2])\n",
    "        imgs = [to_pil(img1).resize((digit_size, digit_size)),\n",
    "                to_pil(img2).resize((digit_size, digit_size))]\n",
    "    else:\n",
    "        raise ValueError(f\"Unknown mode: {mode}\")\n",
    "\n",
    "    # Place in 2 random corners\n",
    "    corners = random.sample(list(positions.values()), 2)\n",
    "    for img, pos in zip(imgs, corners):\n",
    "        canvas.paste(img, pos)\n",
    "\n",
    "    return canvas"
   ]
  },
  {
   "cell_type": "code",
   "execution_count": 18,
   "id": "e456ca92-5ba2-4eb7-869c-b10af0139521",
   "metadata": {
    "tags": []
   },
   "outputs": [],
   "source": [
    "os.makedirs(save_root, exist_ok=True)\n",
    "\n",
    "for mode in ['same_image', 'same_label', 'different_label']:\n",
    "    save_dir = os.path.join(save_root, mode)\n",
    "    os.makedirs(save_dir, exist_ok=True)\n",
    "\n",
    "    for n in range(num_imgs):\n",
    "        stim = create_mnist_stimulus(mode)\n",
    "        stim.save(os.path.join(save_dir, f'mnist_stimulus_{n:02d}_{mode}.png'))"
   ]
  }
 ],
 "metadata": {
  "kernelspec": {
   "display_name": "Python [conda env:torch]",
   "language": "python",
   "name": "conda-env-torch-py"
  },
  "language_info": {
   "codemirror_mode": {
    "name": "ipython",
    "version": 3
   },
   "file_extension": ".py",
   "mimetype": "text/x-python",
   "name": "python",
   "nbconvert_exporter": "python",
   "pygments_lexer": "ipython3",
   "version": "3.11.13"
  }
 },
 "nbformat": 4,
 "nbformat_minor": 5
}
