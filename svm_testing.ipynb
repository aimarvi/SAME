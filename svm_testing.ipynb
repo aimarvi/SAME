{
 "cells": [
  {
   "cell_type": "code",
   "execution_count": 1,
   "id": "a5ed0368-815a-47a0-ba13-b6074629a2e9",
   "metadata": {
    "tags": []
   },
   "outputs": [],
   "source": [
    "import os\n",
    "import pickle\n",
    "import numpy as np\n",
    "import pandas as pd\n",
    "from PIL import Image\n",
    "from sklearn import svm\n",
    "from tqdm import tqdm"
   ]
  },
  {
   "cell_type": "code",
   "execution_count": 6,
   "id": "4a76f305-e77e-4de8-913a-e1c8f4fdfab6",
   "metadata": {
    "tags": []
   },
   "outputs": [],
   "source": [
    "num_ids = 3\n",
    "num_reps = 100\n",
    "num_samples = num_reps * num_ids\n",
    "\n",
    "indTest = np.arange(0,num_samples,num_reps)\n",
    "indAll = np.arange(0,num_samples)\n",
    "\n",
    "perf_fold = np.zeros(shape=(num_reps,))\n",
    "\n",
    "x = np.arange(0,num_ids)\n",
    "trainCat = np.repeat(x,num_reps-1)"
   ]
  },
  {
   "cell_type": "code",
   "execution_count": null,
   "id": "7a0c4d9e-8de1-4eaa-8c4b-759baad34783",
   "metadata": {},
   "outputs": [],
   "source": [
    "num_reps = 100\n",
    "num_ids = 3\n",
    "num_samples = num_reps * num_ids\n",
    "\n",
    "indTest = np.arange(0,num_samples,num_ids)\n",
    "indAll = np.arange(0,num_samples)\n",
    "\n",
    "perf_fold = np.zeros(shape=(num_ids,))\n",
    "\n",
    "for iFold in tqdm(range(num_reps_id)):\n",
    "    \n",
    "    indTrain = np.setdiff1d(indAll,indTest+iFold)\n",
    "    \n",
    "    dataTest = act[indTest+iFold,:]\n",
    "    dataTrain = act[indTrain,:]\n",
    "\n",
    "    clf = svm.LinearSVC(dual='auto')\n",
    "    clf.fit(dataTrain,trainCat)\n",
    "\n",
    "    dec = clf.predict(dataTest)\n",
    "\n",
    "    diff = dec - x\n",
    "    perf = np.where(diff == 0)[0]\n",
    "    perf = len(perf)/num_ids\n",
    "\n",
    "    perf_fold[iFold] = perf"
   ]
  }
 ],
 "metadata": {
  "kernelspec": {
   "display_name": "Python [conda env:torch]",
   "language": "python",
   "name": "conda-env-torch-py"
  },
  "language_info": {
   "codemirror_mode": {
    "name": "ipython",
    "version": 3
   },
   "file_extension": ".py",
   "mimetype": "text/x-python",
   "name": "python",
   "nbconvert_exporter": "python",
   "pygments_lexer": "ipython3",
   "version": "3.11.13"
  }
 },
 "nbformat": 4,
 "nbformat_minor": 5
}
