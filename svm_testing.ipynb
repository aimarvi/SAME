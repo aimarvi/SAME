{
 "cells": [
  {
   "cell_type": "code",
   "execution_count": 34,
   "id": "a5ed0368-815a-47a0-ba13-b6074629a2e9",
   "metadata": {
    "tags": []
   },
   "outputs": [],
   "source": [
    "import os\n",
    "import pickle\n",
    "import numpy as np\n",
    "import pandas as pd\n",
    "from PIL import Image\n",
    "from sklearn import svm, preprocessing, model_selection, metrics, pipeline\n",
    "from tqdm import tqdm"
   ]
  },
  {
   "cell_type": "code",
   "execution_count": 8,
   "id": "4a76f305-e77e-4de8-913a-e1c8f4fdfab6",
   "metadata": {
    "tags": []
   },
   "outputs": [],
   "source": [
    "num_ids = 3\n",
    "num_reps = 100\n",
    "num_samples = num_reps * num_ids\n",
    "\n",
    "indTest = np.arange(0,num_samples,num_reps)\n",
    "indAll = np.arange(0,num_samples)\n",
    "\n",
    "perf_fold = np.zeros(shape=(num_reps,))\n",
    "\n",
    "x = np.arange(0,num_ids)\n",
    "trainCat = np.repeat(x,num_reps-1)"
   ]
  },
  {
   "cell_type": "code",
   "execution_count": 9,
   "id": "4fb2c78e-e931-434f-ac17-8f3a1eac0588",
   "metadata": {
    "tags": []
   },
   "outputs": [],
   "source": [
    "fname = os.path.join('features', 'mnist_features.pkl')\n",
    "with open(fname, 'rb') as handle:\n",
    "    features = pickle.load(handle)\n",
    "    \n",
    "ids = list(features.keys())"
   ]
  },
  {
   "cell_type": "code",
   "execution_count": 21,
   "id": "516e8075-e6b5-4804-a5cc-2ff874e0dc37",
   "metadata": {
    "tags": []
   },
   "outputs": [
    {
     "data": {
      "text/plain": [
       "dict_keys(['stimulus', 'conv1', 'conv2', 'fc6', 'fc7'])"
      ]
     },
     "execution_count": 21,
     "metadata": {},
     "output_type": "execute_result"
    }
   ],
   "source": [
    "features['same_image'][0].keys()"
   ]
  },
  {
   "cell_type": "code",
   "execution_count": 10,
   "id": "65f49c00-be49-488d-b68f-338e74cf6e05",
   "metadata": {
    "tags": []
   },
   "outputs": [
    {
     "name": "stdout",
     "output_type": "stream",
     "text": [
      "same_label (32448,)\n",
      "same_image (32448,)\n",
      "different_label (32448,)\n"
     ]
    }
   ],
   "source": [
    "for label in ids:\n",
    "    act = features[label][0]['fc7']\n",
    "    print(label, act.shape)"
   ]
  },
  {
   "cell_type": "code",
   "execution_count": null,
   "id": "7a0c4d9e-8de1-4eaa-8c4b-759baad34783",
   "metadata": {},
   "outputs": [],
   "source": [
    "num_reps = 100\n",
    "num_ids = 3\n",
    "num_samples = num_reps * num_ids\n",
    "\n",
    "indTest = np.arange(0,num_samples,num_ids)\n",
    "indAll = np.arange(0,num_samples)\n",
    "\n",
    "perf_fold = np.zeros(shape=(num_ids,))\n",
    "\n",
    "for iFold in tqdm(range(num_reps)):\n",
    "    \n",
    "    indTrain = np.setdiff1d(indAll,indTest+iFold)\n",
    "    \n",
    "    dataTest = act[indTest+iFold,:]\n",
    "    dataTrain = act[indTrain,:]\n",
    "\n",
    "    clf = svm.LinearSVC(dual='auto')\n",
    "    clf.fit(dataTrain,trainCat)\n",
    "\n",
    "    dec = clf.predict(dataTest)\n",
    "\n",
    "    diff = dec - x\n",
    "    perf = np.where(diff == 0)[0]\n",
    "    perf = len(perf)/num_ids\n",
    "\n",
    "    perf_fold[iFold] = perf"
   ]
  },
  {
   "cell_type": "code",
   "execution_count": 27,
   "id": "21f535e4-6eb4-4328-9c05-cf0adae32729",
   "metadata": {
    "tags": []
   },
   "outputs": [],
   "source": [
    "def stack_features(features, layer):\n",
    "    num_reps = len(features[ids[0]])  # 100\n",
    "    X, y, groups = [], [], []\n",
    "    for rep in range(num_reps):\n",
    "        for cls_id, cls_name in enumerate(ids):\n",
    "            vec = np.asarray(features[cls_name][rep][layer]).ravel()\n",
    "            X.append(vec)\n",
    "            y.append(cls_id)\n",
    "            groups.append(rep)  # group = triplet id\n",
    "    return np.vstack(X), np.array(y), np.array(groups)"
   ]
  },
  {
   "cell_type": "code",
   "execution_count": 28,
   "id": "3141966c-d05c-4470-b62d-b58602cc830f",
   "metadata": {
    "tags": []
   },
   "outputs": [],
   "source": [
    "layer = \"fc7\"\n",
    "\n",
    "act, trainCat, groups = stack_features(features, layer)\n",
    "num_reps = len(np.unique(groups))\n",
    "num_ids = len(ids)\n",
    "num_samples = act.shape[0]"
   ]
  },
  {
   "cell_type": "code",
   "execution_count": 35,
   "id": "1973d927-4795-4087-9a43-7c58e1e9748c",
   "metadata": {
    "tags": []
   },
   "outputs": [],
   "source": [
    "clf = pipeline.make_pipeline(\n",
    "    preprocessing.StandardScaler(),\n",
    "    svm.LinearSVC(dual='auto', class_weight='balanced', max_iter=5000, random_state=0)\n",
    ")"
   ]
  },
  {
   "cell_type": "code",
   "execution_count": null,
   "id": "7aac418b-7357-4dfd-9d8c-683bf01640d7",
   "metadata": {
    "tags": []
   },
   "outputs": [
    {
     "name": "stderr",
     "output_type": "stream",
     "text": [
      "/Users/aim/miniconda3/envs/pytorch/lib/python3.11/site-packages/sklearn/svm/_base.py:1250: ConvergenceWarning: Liblinear failed to converge, increase the number of iterations.\n",
      "  warnings.warn(\n",
      "/Users/aim/miniconda3/envs/pytorch/lib/python3.11/site-packages/sklearn/svm/_base.py:1250: ConvergenceWarning: Liblinear failed to converge, increase the number of iterations.\n",
      "  warnings.warn(\n",
      "/Users/aim/miniconda3/envs/pytorch/lib/python3.11/site-packages/sklearn/svm/_base.py:1250: ConvergenceWarning: Liblinear failed to converge, increase the number of iterations.\n",
      "  warnings.warn(\n",
      "/Users/aim/miniconda3/envs/pytorch/lib/python3.11/site-packages/sklearn/svm/_base.py:1250: ConvergenceWarning: Liblinear failed to converge, increase the number of iterations.\n",
      "  warnings.warn(\n",
      "/Users/aim/miniconda3/envs/pytorch/lib/python3.11/site-packages/sklearn/svm/_base.py:1250: ConvergenceWarning: Liblinear failed to converge, increase the number of iterations.\n",
      "  warnings.warn(\n",
      "/Users/aim/miniconda3/envs/pytorch/lib/python3.11/site-packages/sklearn/svm/_base.py:1250: ConvergenceWarning: Liblinear failed to converge, increase the number of iterations.\n",
      "  warnings.warn(\n",
      "/Users/aim/miniconda3/envs/pytorch/lib/python3.11/site-packages/sklearn/svm/_base.py:1250: ConvergenceWarning: Liblinear failed to converge, increase the number of iterations.\n",
      "  warnings.warn(\n",
      "/Users/aim/miniconda3/envs/pytorch/lib/python3.11/site-packages/sklearn/svm/_base.py:1250: ConvergenceWarning: Liblinear failed to converge, increase the number of iterations.\n",
      "  warnings.warn(\n",
      "/Users/aim/miniconda3/envs/pytorch/lib/python3.11/site-packages/sklearn/svm/_base.py:1250: ConvergenceWarning: Liblinear failed to converge, increase the number of iterations.\n",
      "  warnings.warn(\n",
      "/Users/aim/miniconda3/envs/pytorch/lib/python3.11/site-packages/sklearn/svm/_base.py:1250: ConvergenceWarning: Liblinear failed to converge, increase the number of iterations.\n",
      "  warnings.warn(\n",
      "/Users/aim/miniconda3/envs/pytorch/lib/python3.11/site-packages/sklearn/svm/_base.py:1250: ConvergenceWarning: Liblinear failed to converge, increase the number of iterations.\n",
      "  warnings.warn(\n",
      "/Users/aim/miniconda3/envs/pytorch/lib/python3.11/site-packages/sklearn/svm/_base.py:1250: ConvergenceWarning: Liblinear failed to converge, increase the number of iterations.\n",
      "  warnings.warn(\n",
      "/Users/aim/miniconda3/envs/pytorch/lib/python3.11/site-packages/sklearn/svm/_base.py:1250: ConvergenceWarning: Liblinear failed to converge, increase the number of iterations.\n",
      "  warnings.warn(\n",
      "/Users/aim/miniconda3/envs/pytorch/lib/python3.11/site-packages/sklearn/svm/_base.py:1250: ConvergenceWarning: Liblinear failed to converge, increase the number of iterations.\n",
      "  warnings.warn(\n",
      "/Users/aim/miniconda3/envs/pytorch/lib/python3.11/site-packages/sklearn/svm/_base.py:1250: ConvergenceWarning: Liblinear failed to converge, increase the number of iterations.\n",
      "  warnings.warn(\n",
      "/Users/aim/miniconda3/envs/pytorch/lib/python3.11/site-packages/sklearn/svm/_base.py:1250: ConvergenceWarning: Liblinear failed to converge, increase the number of iterations.\n",
      "  warnings.warn(\n",
      "/Users/aim/miniconda3/envs/pytorch/lib/python3.11/site-packages/sklearn/svm/_base.py:1250: ConvergenceWarning: Liblinear failed to converge, increase the number of iterations.\n",
      "  warnings.warn(\n",
      "/Users/aim/miniconda3/envs/pytorch/lib/python3.11/site-packages/sklearn/svm/_base.py:1250: ConvergenceWarning: Liblinear failed to converge, increase the number of iterations.\n",
      "  warnings.warn(\n",
      "/Users/aim/miniconda3/envs/pytorch/lib/python3.11/site-packages/sklearn/svm/_base.py:1250: ConvergenceWarning: Liblinear failed to converge, increase the number of iterations.\n",
      "  warnings.warn(\n",
      "/Users/aim/miniconda3/envs/pytorch/lib/python3.11/site-packages/sklearn/svm/_base.py:1250: ConvergenceWarning: Liblinear failed to converge, increase the number of iterations.\n",
      "  warnings.warn(\n",
      "/Users/aim/miniconda3/envs/pytorch/lib/python3.11/site-packages/sklearn/svm/_base.py:1250: ConvergenceWarning: Liblinear failed to converge, increase the number of iterations.\n",
      "  warnings.warn(\n",
      "/Users/aim/miniconda3/envs/pytorch/lib/python3.11/site-packages/sklearn/svm/_base.py:1250: ConvergenceWarning: Liblinear failed to converge, increase the number of iterations.\n",
      "  warnings.warn(\n",
      "/Users/aim/miniconda3/envs/pytorch/lib/python3.11/site-packages/sklearn/svm/_base.py:1250: ConvergenceWarning: Liblinear failed to converge, increase the number of iterations.\n",
      "  warnings.warn(\n",
      "/Users/aim/miniconda3/envs/pytorch/lib/python3.11/site-packages/sklearn/svm/_base.py:1250: ConvergenceWarning: Liblinear failed to converge, increase the number of iterations.\n",
      "  warnings.warn(\n",
      "/Users/aim/miniconda3/envs/pytorch/lib/python3.11/site-packages/sklearn/svm/_base.py:1250: ConvergenceWarning: Liblinear failed to converge, increase the number of iterations.\n",
      "  warnings.warn(\n",
      "/Users/aim/miniconda3/envs/pytorch/lib/python3.11/site-packages/sklearn/svm/_base.py:1250: ConvergenceWarning: Liblinear failed to converge, increase the number of iterations.\n",
      "  warnings.warn(\n",
      "/Users/aim/miniconda3/envs/pytorch/lib/python3.11/site-packages/sklearn/svm/_base.py:1250: ConvergenceWarning: Liblinear failed to converge, increase the number of iterations.\n",
      "  warnings.warn(\n",
      "/Users/aim/miniconda3/envs/pytorch/lib/python3.11/site-packages/sklearn/svm/_base.py:1250: ConvergenceWarning: Liblinear failed to converge, increase the number of iterations.\n",
      "  warnings.warn(\n",
      "/Users/aim/miniconda3/envs/pytorch/lib/python3.11/site-packages/sklearn/svm/_base.py:1250: ConvergenceWarning: Liblinear failed to converge, increase the number of iterations.\n",
      "  warnings.warn(\n",
      "/Users/aim/miniconda3/envs/pytorch/lib/python3.11/site-packages/sklearn/svm/_base.py:1250: ConvergenceWarning: Liblinear failed to converge, increase the number of iterations.\n",
      "  warnings.warn(\n",
      "/Users/aim/miniconda3/envs/pytorch/lib/python3.11/site-packages/sklearn/svm/_base.py:1250: ConvergenceWarning: Liblinear failed to converge, increase the number of iterations.\n",
      "  warnings.warn(\n",
      "/Users/aim/miniconda3/envs/pytorch/lib/python3.11/site-packages/sklearn/svm/_base.py:1250: ConvergenceWarning: Liblinear failed to converge, increase the number of iterations.\n",
      "  warnings.warn(\n",
      "/Users/aim/miniconda3/envs/pytorch/lib/python3.11/site-packages/sklearn/svm/_base.py:1250: ConvergenceWarning: Liblinear failed to converge, increase the number of iterations.\n",
      "  warnings.warn(\n",
      "/Users/aim/miniconda3/envs/pytorch/lib/python3.11/site-packages/sklearn/svm/_base.py:1250: ConvergenceWarning: Liblinear failed to converge, increase the number of iterations.\n",
      "  warnings.warn(\n",
      "/Users/aim/miniconda3/envs/pytorch/lib/python3.11/site-packages/sklearn/svm/_base.py:1250: ConvergenceWarning: Liblinear failed to converge, increase the number of iterations.\n",
      "  warnings.warn(\n",
      "/Users/aim/miniconda3/envs/pytorch/lib/python3.11/site-packages/sklearn/svm/_base.py:1250: ConvergenceWarning: Liblinear failed to converge, increase the number of iterations.\n",
      "  warnings.warn(\n",
      "/Users/aim/miniconda3/envs/pytorch/lib/python3.11/site-packages/sklearn/svm/_base.py:1250: ConvergenceWarning: Liblinear failed to converge, increase the number of iterations.\n",
      "  warnings.warn(\n",
      "/Users/aim/miniconda3/envs/pytorch/lib/python3.11/site-packages/sklearn/svm/_base.py:1250: ConvergenceWarning: Liblinear failed to converge, increase the number of iterations.\n",
      "  warnings.warn(\n",
      "/Users/aim/miniconda3/envs/pytorch/lib/python3.11/site-packages/sklearn/svm/_base.py:1250: ConvergenceWarning: Liblinear failed to converge, increase the number of iterations.\n",
      "  warnings.warn(\n",
      "/Users/aim/miniconda3/envs/pytorch/lib/python3.11/site-packages/sklearn/svm/_base.py:1250: ConvergenceWarning: Liblinear failed to converge, increase the number of iterations.\n",
      "  warnings.warn(\n",
      "/Users/aim/miniconda3/envs/pytorch/lib/python3.11/site-packages/sklearn/svm/_base.py:1250: ConvergenceWarning: Liblinear failed to converge, increase the number of iterations.\n",
      "  warnings.warn(\n",
      "/Users/aim/miniconda3/envs/pytorch/lib/python3.11/site-packages/sklearn/svm/_base.py:1250: ConvergenceWarning: Liblinear failed to converge, increase the number of iterations.\n",
      "  warnings.warn(\n",
      "/Users/aim/miniconda3/envs/pytorch/lib/python3.11/site-packages/sklearn/svm/_base.py:1250: ConvergenceWarning: Liblinear failed to converge, increase the number of iterations.\n",
      "  warnings.warn(\n",
      "/Users/aim/miniconda3/envs/pytorch/lib/python3.11/site-packages/sklearn/svm/_base.py:1250: ConvergenceWarning: Liblinear failed to converge, increase the number of iterations.\n",
      "  warnings.warn(\n"
     ]
    }
   ],
   "source": [
    "logo = model_selection.LeaveOneGroupOut()\n",
    "perf_fold = np.zeros(shape=(num_reps,))\n",
    "y_true_all, y_pred_all = [], []\n",
    "\n",
    "for fold_idx, (indTrain, indTest) in enumerate(logo.split(act, trainCat, groups)):\n",
    "    clf.fit(act[indTrain, :], trainCat[indTrain])\n",
    "    dec = clf.predict(act[indTest, :])\n",
    "\n",
    "    perf_fold[fold_idx] = metrics.accuracy_score(trainCat[indTest], dec)\n",
    "    y_true_all.extend(trainCat[indTest])\n",
    "    y_pred_all.extend(dec)\n",
    "\n",
    "overall_acc = perf_fold.mean()\n",
    "cm = metrics.confusion_matrix(y_true_all, y_pred_all, labels=[0,1,2])\n",
    "\n",
    "print(f\"Overall accuracy: {overall_acc:.3f}\")\n",
    "print(\"Per-fold accuracy (one triplet per fold):\", perf_fold.shape, \"folds\")\n",
    "print(\"Confusion matrix (rows=true, cols=pred):\")\n",
    "print(cm)\n",
    "print(\"Label order:\", class_names)"
   ]
  }
 ],
 "metadata": {
  "kernelspec": {
   "display_name": "Python [conda env:pytorch]",
   "language": "python",
   "name": "conda-env-pytorch-py"
  },
  "language_info": {
   "codemirror_mode": {
    "name": "ipython",
    "version": 3
   },
   "file_extension": ".py",
   "mimetype": "text/x-python",
   "name": "python",
   "nbconvert_exporter": "python",
   "pygments_lexer": "ipython3",
   "version": "3.11.11"
  }
 },
 "nbformat": 4,
 "nbformat_minor": 5
}
