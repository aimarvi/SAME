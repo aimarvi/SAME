{
 "cells": [
  {
   "cell_type": "code",
   "execution_count": 1,
   "id": "1cedb595-470e-43ee-9dd6-9d0e36788dd1",
   "metadata": {
    "tags": []
   },
   "outputs": [],
   "source": [
    "import os\n",
    "import random\n",
    "\n",
    "import matplotlib.pyplot as plt\n",
    "\n",
    "from PIL import Image, ImageDraw"
   ]
  },
  {
   "cell_type": "code",
   "execution_count": 2,
   "id": "c7095a27-3215-44a5-bbc4-083407fbaa12",
   "metadata": {
    "tags": []
   },
   "outputs": [],
   "source": [
    "image_dir = '/Users/aim/Downloads/GrayScaleBackground_Dataset-main/TrainSet_fmri'\n",
    "\n",
    "canvas_size = 400\n",
    "image_size = 100\n",
    "pad = 20\n",
    "\n",
    "positions = {\n",
    "    'top_left': (pad, pad),\n",
    "    'top_right': (canvas_size - image_size - pad, pad),\n",
    "    'bottom_left': (pad, canvas_size - image_size - pad),\n",
    "    'bottom_right': (canvas_size - image_size - pad, canvas_size - image_size - pad)\n",
    "}"
   ]
  },
  {
   "cell_type": "code",
   "execution_count": 7,
   "id": "49b7b975-9919-42bb-9b2a-42f10197056d",
   "metadata": {
    "tags": []
   },
   "outputs": [],
   "source": [
    "# load all images in a category\n",
    "def load_images_by_category(base_dir):\n",
    "    categories = {}\n",
    "    for root, dirs, files in os.walk(base_dir):\n",
    "        for dir_name in dirs:\n",
    "            cat_path = os.path.join(root, dir_name)\n",
    "            image_files = [os.path.join(cat_path, f)\n",
    "                           for f in os.listdir(cat_path)\n",
    "                           if f.lower().endswith(('.png', '.bmp'))]\n",
    "            if image_files:\n",
    "                categories[dir_name] = image_files\n",
    "    return categories\n",
    "\n",
    "# Create a stimulus image\n",
    "def create_stimulus(categories, mode='same_image'):\n",
    "    canvas = Image.new('RGB', (canvas_size, canvas_size), (128,128,128)) # change background color\n",
    "\n",
    "    if mode == 'same_image':\n",
    "        cat = random.choice(list(categories.keys()))\n",
    "        img_path = random.choice(categories[cat])\n",
    "        img = Image.open(img_path).resize((image_size, image_size))\n",
    "        imgs = [img, img.copy()]\n",
    "    elif mode == 'same_category':\n",
    "        cat = random.choice(list(categories.keys()))\n",
    "        img_paths = random.sample(categories[cat], 2)\n",
    "        imgs = [Image.open(p).resize((image_size, image_size)) for p in img_paths]\n",
    "    elif mode == 'different_category':\n",
    "        cat1, cat2 = random.sample(list(categories.keys()), 2)\n",
    "        img1 = Image.open(random.choice(categories[cat1])).resize((image_size, image_size))\n",
    "        img2 = Image.open(random.choice(categories[cat2])).resize((image_size, image_size))\n",
    "        imgs = [img1, img2]\n",
    "    else:\n",
    "        raise ValueError(f\"Unknown mode: {mode}\")\n",
    "\n",
    "    corners = random.sample(list(positions.values()), 2)\n",
    "    for img, pos in zip(imgs, corners):\n",
    "        canvas.paste(img, pos)\n",
    "\n",
    "    return canvas"
   ]
  },
  {
   "cell_type": "code",
   "execution_count": 8,
   "id": "84702d78-0fb2-4127-9ada-dc7fc44d729f",
   "metadata": {
    "tags": []
   },
   "outputs": [
    {
     "name": "stdout",
     "output_type": "stream",
     "text": [
      "Error generating same_category stimulus 8: Sample larger than population or is negative\n"
     ]
    }
   ],
   "source": [
    "categories = load_images_by_category(image_dir)\n",
    "num_imgs = 100\n",
    "\n",
    "save_root = './all_stim_gray'\n",
    "if not os.path.exists(save_root):\n",
    "    os.makedirs(save_root)\n",
    "\n",
    "for mode in ['same_image', 'same_category', 'different_category']:\n",
    "    save_dir = os.path.join(save_root, mode)\n",
    "    os.makedirs(save_dir, exist_ok=True)\n",
    "    \n",
    "    for n in range(num_imgs):\n",
    "        try:\n",
    "            stim = create_stimulus(categories, mode=mode)\n",
    "            stim.save(os.path.join(save_dir, f'stimulus{n:02d}_{mode}.png'))\n",
    "        except Exception as e:\n",
    "            print(f\"Error generating {mode} stimulus {n}: {e}\")"
   ]
  }
 ],
 "metadata": {
  "kernelspec": {
   "display_name": "Python [conda env:vangogh]",
   "language": "python",
   "name": "conda-env-vangogh-py"
  },
  "language_info": {
   "codemirror_mode": {
    "name": "ipython",
    "version": 3
   },
   "file_extension": ".py",
   "mimetype": "text/x-python",
   "name": "python",
   "nbconvert_exporter": "python",
   "pygments_lexer": "ipython3",
   "version": "3.13.4"
  }
 },
 "nbformat": 4,
 "nbformat_minor": 5
}
